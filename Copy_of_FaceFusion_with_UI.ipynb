{
  "cells": [
    {
      "cell_type": "markdown",
      "metadata": {
        "id": "view-in-github",
        "colab_type": "text"
      },
      "source": [
        "<a href=\"https://colab.research.google.com/github/rahulbhola05/facefusion-facefusion/blob/master/Copy_of_FaceFusion_with_UI.ipynb\" target=\"_parent\"><img src=\"https://colab.research.google.com/assets/colab-badge.svg\" alt=\"Open In Colab\"/></a>"
      ]
    },
    {
      "cell_type": "markdown",
      "metadata": {
        "id": "hgVreYca3LcQ"
      },
      "source": [
        "**FACE FUSION 1.1.0**"
      ]
    },
    {
      "cell_type": "markdown",
      "metadata": {
        "id": "dMmR69YV3Qfx"
      },
      "source": [
        "This Colab is made by @smokiazo on *YouTube, Discord and Instagram*."
      ]
    },
    {
      "cell_type": "markdown",
      "metadata": {
        "id": "28qKtK7F3bzl"
      },
      "source": [
        "**INSTALL FACE FUSION**"
      ]
    },
    {
      "cell_type": "code",
      "execution_count": null,
      "metadata": {
        "id": "ZlrnUA3i3gMB"
      },
      "outputs": [],
      "source": [
        "!git clone --branch 2.5.2 https://github.com/facefusion/facefusion\n",
        "!pip install -r /content/facefusion/requirements.txt && pip uninstall onnxruntime onnxruntime-gpu -y && pip install onnxruntime-gpu==1.15.1"
      ]
    },
    {
      "cell_type": "markdown",
      "metadata": {
        "id": "vsfWtUCSGrrl"
      },
      "source": [
        "**RUN FACE FUSION**"
      ]
    },
    {
      "cell_type": "markdown",
      "metadata": {
        "id": "J6HT5NpVcZOC"
      },
      "source": [
        "Tunnels to Remote.moe, Provided by @.makuwu from discord. **Click the first link**"
      ]
    },
    {
      "cell_type": "code",
      "execution_count": null,
      "metadata": {
        "id": "YVHiNI-bb6IA"
      },
      "outputs": [],
      "source": [
        "%cd /content/facefusion\n",
        "!ssh-keygen -q -t rsa -N '' -f ~/.ssh/id_rsa <<<y >/dev/null 2>&1\n",
        "!ssh-keyscan -t rsa remote.moe >> ~/.ssh/known_hosts\n",
        "!python run.py --execution-providers cuda & ssh -R 80:localhost:7860 remote.moe"
      ]
    }
  ],
  "metadata": {
    "accelerator": "GPU",
    "colab": {
      "provenance": [],
      "gpuType": "T4",
      "include_colab_link": true
    },
    "kernelspec": {
      "display_name": "Python 3",
      "name": "python3"
    },
    "language_info": {
      "name": "python"
    }
  },
  "nbformat": 4,
  "nbformat_minor": 0
}